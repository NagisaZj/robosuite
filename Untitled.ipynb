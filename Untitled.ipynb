{
 "cells": [
  {
   "cell_type": "code",
   "execution_count": 38,
   "id": "exempt-mediterranean",
   "metadata": {},
   "outputs": [],
   "source": [
    "import robosuite\n",
    "from robosuite.controllers import load_controller_config\n",
    "\n",
    "# load default controller parameters for Operational Space Control (OSC)\n",
    "controller_config = load_controller_config(default_controller=\"JOINT_POSITION\")\n"
   ]
  },
  {
   "cell_type": "code",
   "execution_count": 39,
   "id": "furnished-olive",
   "metadata": {},
   "outputs": [],
   "source": [
    "env = robosuite.make(\n",
    "    \"Wipe\",\n",
    "    robots=[\"Sawyer\"],             # load a Sawyer robot and a Panda robot\n",
    "    #gripper_types=None,                # use default grippers per robot arm\n",
    "    controller_configs=controller_config,   # each arm is controlled using OSC\n",
    "    env_configuration=\"default\", # (two-arm envs only) arms face each other\n",
    "    has_renderer=False,                     # no on-screen rendering\n",
    "    has_offscreen_renderer=False,           # no off-screen rendering\n",
    "    control_freq=20,                        # 20 hz control for applied actions\n",
    "    horizon=200,                            # each episode terminates after 200 steps\n",
    "    use_object_obs=True,                    # provide object observations to agent\n",
    "    use_camera_obs=False,                   # don't provide image observations to agent\n",
    "    reward_shaping=True,                    # use a dense reward signal for learning\n",
    ")"
   ]
  },
  {
   "cell_type": "code",
   "execution_count": 40,
   "id": "decreased-liechtenstein",
   "metadata": {},
   "outputs": [],
   "source": [
    "obs=env.reset()\n"
   ]
  },
  {
   "cell_type": "code",
   "execution_count": 42,
   "id": "running-medicare",
   "metadata": {},
   "outputs": [
    {
     "data": {
      "text/plain": [
       "OrderedDict([('robot0_joint_pos_cos',\n",
       "              array([ 0.99940816,  0.36328802,  0.99999748, -0.56493726,  0.9998751 ,\n",
       "                      0.84396706, -0.98452761])),\n",
       "             ('robot0_joint_pos_sin',\n",
       "              array([ 0.03439949, -0.93167688, -0.00224437,  0.82513386, -0.01580446,\n",
       "                      0.53639501, -0.17522955])),\n",
       "             ('robot0_joint_vel', array([0., 0., 0., 0., 0., 0., 0.])),\n",
       "             ('robot0_eef_pos', array([0.03901195, 0.17369889, 1.12112862])),\n",
       "             ('robot0_eef_quat',\n",
       "              array([-0.6913117 , -0.7223586 , -0.00836863, -0.01470216])),\n",
       "             ('robot0_gripper_qpos', array([], dtype=float64)),\n",
       "             ('robot0_gripper_qvel', array([], dtype=float64)),\n",
       "             ('robot0_contact', array(False)),\n",
       "             ('proportion_wiped', array(0.)),\n",
       "             ('wipe_radius', array(0.14833089)),\n",
       "             ('wipe_centroid', array([0.12587621, 0.02617373, 0.9       ])),\n",
       "             ('gripper_to_wipe_centroid',\n",
       "              array([ 0.08686426, -0.14752517, -0.22112862])),\n",
       "             ('robot0_proprio-state',\n",
       "              array([ 0.99940816,  0.36328802,  0.99999748, -0.56493726,  0.9998751 ,\n",
       "                      0.84396706, -0.98452761,  0.03439949, -0.93167688, -0.00224437,\n",
       "                      0.82513386, -0.01580446,  0.53639501, -0.17522955,  0.        ,\n",
       "                      0.        ,  0.        ,  0.        ,  0.        ,  0.        ,\n",
       "                      0.        ,  0.03901195,  0.17369889,  1.12112862, -0.6913117 ,\n",
       "                     -0.7223586 , -0.00836863, -0.01470216,  0.        ])),\n",
       "             ('object-state',\n",
       "              array([ 0.        ,  0.14833089,  0.12587621,  0.02617373,  0.9       ,\n",
       "                      0.08686426, -0.14752517, -0.22112862]))])"
      ]
     },
     "execution_count": 42,
     "metadata": {},
     "output_type": "execute_result"
    }
   ],
   "source": [
    "obs\n"
   ]
  },
  {
   "cell_type": "code",
   "execution_count": 43,
   "id": "english-horizontal",
   "metadata": {},
   "outputs": [
    {
     "data": {
      "text/plain": [
       "(array([-1., -1., -1., -1., -1., -1., -1.]),\n",
       " array([1., 1., 1., 1., 1., 1., 1.]))"
      ]
     },
     "execution_count": 43,
     "metadata": {},
     "output_type": "execute_result"
    }
   ],
   "source": [
    "env.action_spec"
   ]
  },
  {
   "cell_type": "code",
   "execution_count": 16,
   "id": "annoying-reaction",
   "metadata": {},
   "outputs": [
    {
     "data": {
      "text/plain": [
       "['__class__',\n",
       " '__delattr__',\n",
       " '__dict__',\n",
       " '__dir__',\n",
       " '__doc__',\n",
       " '__eq__',\n",
       " '__format__',\n",
       " '__ge__',\n",
       " '__getattribute__',\n",
       " '__gt__',\n",
       " '__hash__',\n",
       " '__init__',\n",
       " '__init_subclass__',\n",
       " '__le__',\n",
       " '__lt__',\n",
       " '__module__',\n",
       " '__ne__',\n",
       " '__new__',\n",
       " '__reduce__',\n",
       " '__reduce_ex__',\n",
       " '__repr__',\n",
       " '__setattr__',\n",
       " '__sizeof__',\n",
       " '__str__',\n",
       " '__subclasshook__',\n",
       " '__weakref__',\n",
       " '_action_dim',\n",
       " '_check_grasp',\n",
       " '_check_robot_configuration',\n",
       " '_check_success',\n",
       " '_create_camera_sensors',\n",
       " '_destroy_viewer',\n",
       " '_eef0_xmat',\n",
       " '_eef0_xpos',\n",
       " '_eef0_xquat',\n",
       " '_eef1_xmat',\n",
       " '_eef1_xpos',\n",
       " '_eef1_xquat',\n",
       " '_get_observations',\n",
       " '_gripper0_to_handle0',\n",
       " '_gripper1_to_handle1',\n",
       " '_gripper_to_target',\n",
       " '_handle0_xpos',\n",
       " '_handle1_xpos',\n",
       " '_initialize_sim',\n",
       " '_input2list',\n",
       " '_load_model',\n",
       " '_load_robots',\n",
       " '_model_postprocessor',\n",
       " '_obs_cache',\n",
       " '_observables',\n",
       " '_post_action',\n",
       " '_postprocess_model',\n",
       " '_pot_quat',\n",
       " '_pre_action',\n",
       " '_reset_internal',\n",
       " '_setup_observables',\n",
       " '_setup_references',\n",
       " '_update_observables',\n",
       " '_visualizations',\n",
       " '_visualize_gripper_to_target',\n",
       " 'action_dim',\n",
       " 'action_spec',\n",
       " 'active_observables',\n",
       " 'add_observable',\n",
       " 'camera_depths',\n",
       " 'camera_heights',\n",
       " 'camera_names',\n",
       " 'camera_widths',\n",
       " 'check_contact',\n",
       " 'clear_objects',\n",
       " 'close',\n",
       " 'control_freq',\n",
       " 'control_timestep',\n",
       " 'cur_time',\n",
       " 'deterministic_reset',\n",
       " 'done',\n",
       " 'enabled_observables',\n",
       " 'env_configuration',\n",
       " 'get_contacts',\n",
       " 'handle0_site_id',\n",
       " 'handle1_site_id',\n",
       " 'hard_reset',\n",
       " 'has_offscreen_renderer',\n",
       " 'has_renderer',\n",
       " 'horizon',\n",
       " 'ignore_done',\n",
       " 'initialize_time',\n",
       " 'mjpy_model',\n",
       " 'model',\n",
       " 'model_timestep',\n",
       " 'modify_observable',\n",
       " 'num_cameras',\n",
       " 'num_robots',\n",
       " 'observation_modalities',\n",
       " 'observation_names',\n",
       " 'observation_spec',\n",
       " 'placement_initializer',\n",
       " 'pot',\n",
       " 'pot_body_id',\n",
       " 'pot_center_id',\n",
       " 'render',\n",
       " 'render_camera',\n",
       " 'render_collision_mesh',\n",
       " 'render_gpu_device_id',\n",
       " 'render_visual_mesh',\n",
       " 'reset',\n",
       " 'reset_from_xml_string',\n",
       " 'reward',\n",
       " 'reward_scale',\n",
       " 'reward_shaping',\n",
       " 'robot_configs',\n",
       " 'robot_names',\n",
       " 'robots',\n",
       " 'set_model_postprocessor',\n",
       " 'sim',\n",
       " 'sim_state_initial',\n",
       " 'step',\n",
       " 'table_friction',\n",
       " 'table_full_size',\n",
       " 'table_offset',\n",
       " 'table_top_id',\n",
       " 'timestep',\n",
       " 'use_camera_obs',\n",
       " 'use_object_obs',\n",
       " 'viewer',\n",
       " 'visualize']"
      ]
     },
     "execution_count": 16,
     "metadata": {},
     "output_type": "execute_result"
    }
   ],
   "source": [
    "dir(env)"
   ]
  },
  {
   "cell_type": "code",
   "execution_count": 25,
   "id": "aquatic-repair",
   "metadata": {},
   "outputs": [
    {
     "data": {
      "text/plain": [
       "Discrete(2)"
      ]
     },
     "execution_count": 25,
     "metadata": {},
     "output_type": "execute_result"
    }
   ],
   "source": [
    "import gym\n",
    "env2 = gym.make('CartPole-v1')\n",
    "env2.action_space"
   ]
  },
  {
   "cell_type": "code",
   "execution_count": 30,
   "id": "sexual-temple",
   "metadata": {},
   "outputs": [
    {
     "data": {
      "text/plain": [
       "OrderedDict([('robot0_joint_pos_cos',\n",
       "              array([ 0.9997186 ,  0.37365085,  0.99999622, -0.57282799,  0.99999928,\n",
       "                      0.80862457, -0.98805486])),\n",
       "             ('robot0_joint_pos_sin',\n",
       "              array([ 0.02372166, -0.92756943,  0.00274808,  0.8196756 , -0.00120288,\n",
       "                      0.58832499, -0.15410257])),\n",
       "             ('robot0_joint_vel', array([0., 0., 0., 0., 0., 0., 0.])),\n",
       "             ('robot0_eef_pos',\n",
       "              array([-0.17155548, -0.12744512,  1.02217855])),\n",
       "             ('robot0_eef_quat',\n",
       "              array([ 2.35384614e-02, -9.99396588e-01,  2.55419990e-02,  8.90343075e-05])),\n",
       "             ('robot0_gripper_qpos', array([ 0.020833, -0.020833])),\n",
       "             ('robot0_gripper_qvel', array([0., 0.])),\n",
       "             ('robot1_joint_pos_cos',\n",
       "              array([ 0.99970485,  0.98173767,  0.99983473, -0.85125458,  0.99999787,\n",
       "                     -0.97771036,  0.73505639])),\n",
       "             ('robot1_joint_pos_sin',\n",
       "              array([ 0.02429418,  0.19023969, -0.01818015, -0.52475293,  0.0020653 ,\n",
       "                      0.20995823,  0.67800597])),\n",
       "             ('robot1_joint_vel', array([0., 0., 0., 0., 0., 0., 0.])),\n",
       "             ('robot1_eef_pos', array([0.00217534, 0.08874128, 1.02132069])),\n",
       "             ('robot1_eef_quat',\n",
       "              array([ 0.72101084, -0.68888507,  0.05086765,  0.05471026])),\n",
       "             ('robot1_gripper_qpos', array([ 0.020833, -0.020833])),\n",
       "             ('robot1_gripper_qvel', array([0., 0.])),\n",
       "             ('pot_pos',\n",
       "              array([2.46380465e-04, 2.79100791e-02, 8.70000000e-01])),\n",
       "             ('pot_quat',\n",
       "              array([ 0.        ,  0.        ,  0.99834781, -0.05746004])),\n",
       "             ('handle0_xpos', array([ 0.01802956, -0.12606641,  0.93      ])),\n",
       "             ('handle1_xpos', array([-0.0175368 ,  0.18188657,  0.93      ])),\n",
       "             ('gripper0_to_handle0',\n",
       "              array([ 0.18958504,  0.00137872, -0.09217855])),\n",
       "             ('gripper1_to_handle1',\n",
       "              array([-0.01971214,  0.09314529, -0.09132069])),\n",
       "             ('robot0_proprio-state',\n",
       "              array([ 9.99718602e-01,  3.73650849e-01,  9.99996224e-01, -5.72827994e-01,\n",
       "                      9.99999277e-01,  8.08624575e-01, -9.88054855e-01,  2.37216587e-02,\n",
       "                     -9.27569428e-01,  2.74807533e-03,  8.19675600e-01, -1.20288160e-03,\n",
       "                      5.88324993e-01, -1.54102572e-01,  0.00000000e+00,  0.00000000e+00,\n",
       "                      0.00000000e+00,  0.00000000e+00,  0.00000000e+00,  0.00000000e+00,\n",
       "                      0.00000000e+00, -1.71555480e-01, -1.27445123e-01,  1.02217855e+00,\n",
       "                      2.35384614e-02, -9.99396588e-01,  2.55419990e-02,  8.90343075e-05,\n",
       "                      2.08330000e-02, -2.08330000e-02,  0.00000000e+00,  0.00000000e+00])),\n",
       "             ('robot1_proprio-state',\n",
       "              array([ 0.99970485,  0.98173767,  0.99983473, -0.85125458,  0.99999787,\n",
       "                     -0.97771036,  0.73505639,  0.02429418,  0.19023969, -0.01818015,\n",
       "                     -0.52475293,  0.0020653 ,  0.20995823,  0.67800597,  0.        ,\n",
       "                      0.        ,  0.        ,  0.        ,  0.        ,  0.        ,\n",
       "                      0.        ,  0.00217534,  0.08874128,  1.02132069,  0.72101084,\n",
       "                     -0.68888507,  0.05086765,  0.05471026,  0.020833  , -0.020833  ,\n",
       "                      0.        ,  0.        ])),\n",
       "             ('object-state',\n",
       "              array([ 2.46380465e-04,  2.79100791e-02,  8.70000000e-01,  0.00000000e+00,\n",
       "                      0.00000000e+00,  9.98347807e-01, -5.74600406e-02,  1.80295632e-02,\n",
       "                     -1.26066407e-01,  9.30000000e-01, -1.75368022e-02,  1.81886566e-01,\n",
       "                      9.30000000e-01,  1.89585043e-01,  1.37871575e-03, -9.21785462e-02,\n",
       "                     -1.97121396e-02,  9.31452855e-02, -9.13206859e-02]))])"
      ]
     },
     "execution_count": 30,
     "metadata": {},
     "output_type": "execute_result"
    }
   ],
   "source": [
    "env.observation_spec()"
   ]
  },
  {
   "cell_type": "code",
   "execution_count": 27,
   "id": "czech-floating",
   "metadata": {},
   "outputs": [
    {
     "data": {
      "text/plain": [
       "(-inf, inf)"
      ]
     },
     "execution_count": 27,
     "metadata": {},
     "output_type": "execute_result"
    }
   ],
   "source": [
    "env2.reward_range"
   ]
  },
  {
   "cell_type": "code",
   "execution_count": null,
   "id": "confused-equivalent",
   "metadata": {},
   "outputs": [],
   "source": []
  }
 ],
 "metadata": {
  "kernelspec": {
   "display_name": "Python 3",
   "language": "python",
   "name": "python3"
  },
  "language_info": {
   "codemirror_mode": {
    "name": "ipython",
    "version": 3
   },
   "file_extension": ".py",
   "mimetype": "text/x-python",
   "name": "python",
   "nbconvert_exporter": "python",
   "pygments_lexer": "ipython3",
   "version": "3.6.12"
  }
 },
 "nbformat": 4,
 "nbformat_minor": 5
}
